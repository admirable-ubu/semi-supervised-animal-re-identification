{
 "cells": [
  {
   "cell_type": "code",
   "execution_count": null,
   "id": "5c48cab5",
   "metadata": {},
   "outputs": [],
   "source": [
    "import pandas as pd\n",
    "import numpy as np\n",
    "import os, sys\n",
    "import pickle as pk"
   ]
  },
  {
   "cell_type": "code",
   "execution_count": null,
   "id": "a00cbc0d",
   "metadata": {},
   "outputs": [],
   "source": [
    "results_file = list(filter(lambda x: \"Test.pkl\" in x, os.listdir(\"results\")))\n",
    "results_file = list(filter(lambda x: \"MN2\" in x, results_file))\n",
    "results_file.sort()"
   ]
  },
  {
   "cell_type": "code",
   "execution_count": null,
   "id": "afd4a40b",
   "metadata": {},
   "outputs": [],
   "source": [
    "rdf = pd.DataFrame(columns=[\"Method\", \"Assigment\", \"Conflict\", \"Weighted\", \"Test\", \"Dataset\", \"Features\", \"Classifier\", \"Accuracy\"])\n",
    "\n",
    "for r in results_file:\n",
    "    row = dict()\n",
    "    with open(\"results/\"+r, \"rb\") as f:\n",
    "        data = pk.load(f)\n",
    "    method, assigment, conflict, weighted, test = r.split(\".pkl\")[0].split(\"-\")\n",
    "    if weighted != \"\":\n",
    "        weighted = False if \"No\" in weighted else True\n",
    "    test = 1 if \"1\" in test else 2\n",
    "    \n",
    "    row[\"Method\"] = method\n",
    "    row[\"Assigment\"] = assigment\n",
    "    row[\"Conflict\"] = conflict\n",
    "    row[\"Weighted\"] = weighted\n",
    "    row[\"Test\"] = test\n",
    "    \n",
    "    for dataset, d_result in data.items():\n",
    "        row[\"Dataset\"] = dataset\n",
    "        for features, f_result in d_result.items():\n",
    "            row[\"Features\"] = features\n",
    "            for classifier, c_result in f_result.items():\n",
    "                row[\"Classifier\"] = classifier\n",
    "                row[\"Accuracy\"] = c_result[\"scores\"][\"acc\"]\n",
    "                \n",
    "                rdf.loc[rdf.shape[0]] = row"
   ]
  },
  {
   "cell_type": "code",
   "execution_count": null,
   "id": "9338d089",
   "metadata": {},
   "outputs": [],
   "source": [
    "rdf_nowiw = rdf[~rdf.Method.str.contains(\"WiW\")]\n",
    "names_map = dict(zip(rdf_nowiw.Method.unique(), [\"CoTrainingByCommittee\", \n",
    "                                                 \"CoForest\", \n",
    "                                                 \"DemocraticCo\", \n",
    "                                                 \"LabelPropagation\", \n",
    "                                                 \"LabelSpreading\", \n",
    "                                                 \"TriTraining\"]))\n",
    "names_map[\"Default\"] = \"\"\n",
    "rdf_nowiw = rdf_nowiw.replace(names_map)\n",
    "rdf_nowiw"
   ]
  },
  {
   "cell_type": "code",
   "execution_count": null,
   "id": "f5fd31e0",
   "metadata": {},
   "outputs": [],
   "source": [
    "rdf_nowiw[\"Method_name\"] = rdf_nowiw.Method +\" - \"+ rdf_nowiw.Classifier\n",
    "rdf_nowiw[\"Dataset_name\"] = rdf_nowiw.Dataset + \"_\" + rdf_nowiw.Features\n",
    "rdf_nowiw = rdf_nowiw.replace({'Method_name': r' - $'}, {'Method_name': \"\"}, regex=True)\n",
    "rdf_nowiw = rdf_nowiw.sort_values(by=\"Dataset_name\")\n",
    "rdf_nowiw = rdf_nowiw.drop([\"Assigment\", \"Conflict\", \"Weighted\", \"Dataset\", \"Method\", \"Features\", \"Classifier\"], axis=1)"
   ]
  },
  {
   "cell_type": "code",
   "execution_count": null,
   "id": "f57fd596",
   "metadata": {},
   "outputs": [],
   "source": [
    "rdf1 = rdf_nowiw[rdf_nowiw.Test==2]\n",
    "rdf2 = rdf_nowiw[rdf_nowiw.Test==1]"
   ]
  },
  {
   "cell_type": "code",
   "execution_count": null,
   "id": "aae7b37b",
   "metadata": {},
   "outputs": [],
   "source": [
    "csv1 = rdf1.pivot(index=\"Method_name\", columns=\"Dataset_name\", values=\"Accuracy\").sort_index()\n",
    "csv2 = rdf2.pivot(index=\"Method_name\", columns=\"Dataset_name\", values=\"Accuracy\")"
   ]
  },
  {
   "cell_type": "code",
   "execution_count": null,
   "id": "af544518",
   "metadata": {},
   "outputs": [],
   "source": [
    "csv1.to_csv(\"results/transductive_acc_train1half_mn2.csv\")\n",
    "csv2.to_csv(\"results/transductive_acc_train2half_mn2.csv\")\n",
    "csv11 = pd.read_csv(\"results/transductive_acc_train1half.csv\", index_col=\"Method_name\")\n",
    "csv22 = pd.read_csv(\"results/transductive_acc_train2half.csv\", index_col=\"Method_name\")\n",
    "pd.concat((csv1, csv11), axis=1).reindex(sorted(list(csv1.columns)+list(csv11.columns)), axis=1).to_csv(\"results/transductive_firstHalf.csv\")\n",
    "pd.concat((csv2, csv22), axis=1).reindex(sorted(list(csv1.columns)+list(csv11.columns)), axis=1).to_csv(\"results/transductive_secondHalf.csv\")\n",
    "pd.concat((csv2, csv22), axis=1).reindex(sorted(list(csv1.columns)+list(csv11.columns)), axis=1)\n",
    "((pd.concat((csv1, csv11), axis=1) + pd.concat((csv2, csv22), axis=1))/2).to_csv(\"results/transductive_avg.csv\")\n",
    "((pd.concat((csv1, csv11), axis=1) + pd.concat((csv2, csv22), axis=1))/2).reindex(sorted(list(csv1.columns)+list(csv11.columns)), axis=1).to_csv(\"results/transductive_avg.csv\")"
   ]
  }
 ],
 "metadata": {
  "kernelspec": {
   "display_name": "alg",
   "language": "python",
   "name": "python3"
  },
  "language_info": {
   "codemirror_mode": {
    "name": "ipython",
    "version": 3
   },
   "file_extension": ".py",
   "mimetype": "text/x-python",
   "name": "python",
   "nbconvert_exporter": "python",
   "pygments_lexer": "ipython3",
   "version": "3.6.13"
  },
  "vscode": {
   "interpreter": {
    "hash": "f35ceb41e6fee1c2944106401da979402a2c209050b16b79df79832805453973"
   }
  }
 },
 "nbformat": 4,
 "nbformat_minor": 5
}
