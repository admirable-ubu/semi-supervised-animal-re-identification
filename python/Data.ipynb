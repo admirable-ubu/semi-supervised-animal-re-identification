{
 "cells": [
  {
   "cell_type": "code",
   "execution_count": null,
   "id": "47b38824",
   "metadata": {},
   "outputs": [],
   "source": [
    "%matplotlib inline\n",
    "import numpy as np\n",
    "import pandas as pd\n",
    "import os\n",
    "import sys\n",
    "import re\n",
    "import pickle"
   ]
  },
  {
   "cell_type": "code",
   "execution_count": null,
   "id": "b86c284d",
   "metadata": {},
   "outputs": [],
   "source": [
    "data_path = \"/home/jlgarridol/Data/animals/Raw/Splitted\"\n",
    "data = list(filter(lambda x: \"BB\" not in x,os.listdir(data_path)))"
   ]
  },
  {
   "cell_type": "code",
   "execution_count": null,
   "id": "d3cd78ab",
   "metadata": {},
   "outputs": [],
   "source": [
    "types = {\"Koi_5652\", \"Pigeons_29033\", \"Pigeons_4927\", \"Pigeons_8234\", \"Pigs_49651\"}\n",
    "features = {\"HOG\", \"LBP\", \"RGB\", \"AE\", \"MN2\"}"
   ]
  },
  {
   "cell_type": "code",
   "execution_count": null,
   "id": "b2504d35",
   "metadata": {},
   "outputs": [],
   "source": [
    "data_pairs = list()\n",
    "for t in types:\n",
    "    for f in features:\n",
    "        criteria = re.compile(f'.+_{t}_.+_{f}.csv')\n",
    "        data_pairs.append([ s for s in data if criteria.match(s) ])\n",
    "data_pairs = list(map(lambda x: [os.path.join(data_path, x[1]),os.path.join(data_path, x[0])], data_pairs))"
   ]
  },
  {
   "cell_type": "code",
   "execution_count": null,
   "id": "716468b9",
   "metadata": {},
   "outputs": [],
   "source": [
    "with open(\"files\",\"wb\") as f:\n",
    "    pickle.dump(data_pairs, f)"
   ]
  },
  {
   "cell_type": "code",
   "execution_count": null,
   "id": "1c5e4639",
   "metadata": {},
   "outputs": [],
   "source": []
  }
 ],
 "metadata": {
  "kernelspec": {
   "display_name": "Python 3 (ipykernel)",
   "language": "python",
   "name": "python3"
  },
  "language_info": {
   "codemirror_mode": {
    "name": "ipython",
    "version": 3
   },
   "file_extension": ".py",
   "mimetype": "text/x-python",
   "name": "python",
   "nbconvert_exporter": "python",
   "pygments_lexer": "ipython3",
   "version": "3.10.4"
  }
 },
 "nbformat": 4,
 "nbformat_minor": 5
}
